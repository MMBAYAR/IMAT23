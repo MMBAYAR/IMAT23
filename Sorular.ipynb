{
  "nbformat": 4,
  "nbformat_minor": 0,
  "metadata": {
    "colab": {
      "provenance": [],
      "authorship_tag": "ABX9TyMR3NbGq8IHrFzPu2EopyQN",
      "include_colab_link": true
    },
    "kernelspec": {
      "name": "python3",
      "display_name": "Python 3"
    },
    "language_info": {
      "name": "python"
    }
  },
  "cells": [
    {
      "cell_type": "markdown",
      "metadata": {
        "id": "view-in-github",
        "colab_type": "text"
      },
      "source": [
        "<a href=\"https://colab.research.google.com/github/MMBAYAR/IMAT23/blob/main/Sorular.ipynb\" target=\"_parent\"><img src=\"https://colab.research.google.com/assets/colab-badge.svg\" alt=\"Open In Colab\"/></a>"
      ]
    },
    {
      "cell_type": "markdown",
      "source": [
        "**Örnek1.** $f(\\vec x)=2x^3-30x^2+126x+59$ fonksiyonunun [0, 10] tanım aralığında optimize ediniz."
      ],
      "metadata": {
        "id": "M4sRtJeHh1zL"
      }
    },
    {
      "cell_type": "markdown",
      "source": [
        "İktisat soruları için bazı simgesel bilgiler ve gösterim.\n",
        "- \"q\" genelde miktarı temsil eder,\n",
        "- \"p\" genelde fiyatı temsil eder,\n",
        "- \"$\\pi$\" genelde karı temsil eder."
      ],
      "metadata": {
        "id": "NKgxW_OYkRdk"
      }
    },
    {
      "cell_type": "markdown",
      "source": [
        "**Örnek2.** Talep bilgisi, fiyatın miktara bağlı fonksiyonu cinsinden $p(q) = 30-2q$ biçiminde verilmiş olsun. Toplam hasılatın en büyük olduğu fiyat ve miktar ikilisini bulunuz."
      ],
      "metadata": {
        "id": "-81W90M5jPeU"
      }
    },
    {
      "cell_type": "markdown",
      "source": [
        "**Örnek3.** Hasılatın miktara bağlı fonksiyonu $R(q) = 4000q-33q^2$ ve maliyetin miktara bağlı fonksiyonu da $C(q)=2q^3-3q^2+400q+5000$ olsun.\n",
        "- Miktarın negatif olmayan değerleri için kar fonksiyonunun tanım aralığını düşününüz.\n",
        "- Maliyeti minimize eden miktar ve maliyet değerlerini bulunuz.\n",
        "- Karın miktara bağlı fonksiyonunu kurunuz,\n",
        "- Karı maksimize eden miktar ve kar değerlerini bulunuz."
      ],
      "metadata": {
        "id": "AzwU-YjNj6aM"
      }
    },
    {
      "cell_type": "markdown",
      "source": [
        "**Örnek4.** $f(\\vec x) = 2x^4-16x^3+32x^2+5$ fonksiyonunun;\n",
        "- artan olduğu bölgeleri,\n",
        "- azalan olduğu bölgeleri,\n",
        "- durgun olduğu  noktaları,\n",
        "- türevinin artan olduğu bölgeleri,\n",
        "- türevinin azalan olduğu bölgeleri\n",
        "<br>ve\n",
        "- türevinin durgun olduğu noktaları bulunuz."
      ],
      "metadata": {
        "id": "I-y6nXvRnmUt"
      }
    },
    {
      "cell_type": "markdown",
      "source": [
        "**Örnek5.** $f(K,L)=25K^{3\\over5}L^{2\\over5}$ sermayeye ve emeğe bağlı bir üretim fonksiyonudur. Emeğin sermayenin yerine geçebilme hızını $(K,L)=(243,181)$ noktasında değerlendirin."
      ],
      "metadata": {
        "id": "5IxRfHv8slcG"
      }
    }
  ]
}