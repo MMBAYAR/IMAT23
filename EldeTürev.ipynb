{
  "nbformat": 4,
  "nbformat_minor": 0,
  "metadata": {
    "colab": {
      "provenance": [],
      "authorship_tag": "ABX9TyPXFHKqjbwLPGwWPasoPzsB",
      "include_colab_link": true
    },
    "kernelspec": {
      "name": "python3",
      "display_name": "Python 3"
    },
    "language_info": {
      "name": "python"
    }
  },
  "cells": [
    {
      "cell_type": "markdown",
      "metadata": {
        "id": "view-in-github",
        "colab_type": "text"
      },
      "source": [
        "<a href=\"https://colab.research.google.com/github/MMBAYAR/IMAT23/blob/main/EldeT%C3%BCrev.ipynb\" target=\"_parent\"><img src=\"https://colab.research.google.com/assets/colab-badge.svg\" alt=\"Open In Colab\"/></a>"
      ]
    },
    {
      "cell_type": "markdown",
      "source": [
        "##**Temel Türev Alma Kuralları**\n",
        "\n",
        "- ***Üs Kuralı***<br>\n",
        "$c,n\\neq0$ için $f(x)=c \\cdot x^n$ olsun;<br>\n",
        "${d\\over dx}f(x)=f'(x)=n\\cdot c \\cdot x^{n-1}$<br><br>\n",
        "ve<br><br>\n",
        "$c\\neq0,n=0$ için $f(x)=c \\cdot x^n = c \\cdot x^0 = c$ olsun;<br>\n",
        "${d\\over dx}f(x)=f'(x)=0$<br>\n",
        "- - -\n",
        " **ör.1**<br> $y=x^{2/5}$ ise ${dy \\over dx}=?$<br><br>\n",
        " **çözüm**<br> ${dy \\over dx}=(2/5) \\cdot 1 \\cdot x^{(2/5)-1}=(2/5)x^{-3/5}={2 \\over 5x^{3/5}}$<br>\n",
        " - - -\n",
        " **ör.2**<br> $f(x)=5x^2+12x+7$ ise $f'(x)=?$<br><br>\n",
        " **çözüm**<br> toplamsal fonksiyonlar alt fonksiyonlara bölünebilir.\n",
        " - $g(x) = 5x^2$, $h(x) = 12x^1$, $k(x)=7x^0$ olsun,<br>\n",
        " öyleyse $f(x)=g(x)+h(x)+k(x)$ olur<br>\n",
        " ve $f'(x)=g'(x)+h'(x)+k'(x)$ olur;\n",
        " -$g'(x)=2 \\cdot5 \\cdot x^{2-1}$\n",
        " -$h'(x)=1 \\cdot12 \\cdot x^{1-0}$\n",
        " -$k'(x)=0$\n",
        "\n",
        " öyleyse $f'(x)=10x+12$'dir\n",
        " - - -\n",
        "- ***Çarpımın Türevi***<br>\n",
        "$f(x)=g(x) \\cdot h(x)$ olsun;<br>\n",
        "$f'(x)=g'(x) \\cdot h(x) + g(x) \\cdot h'(x)$ olur.\n",
        "- - -\n",
        " **ör.3**<br> $y=x^{2/5}$ ise ${dy \\over dx}=?$<br><br>\n",
        " **çözüm**<br> $y = 1 \\cdot x^{2/5} \n",
        " = (1 \\cdot x^0)\\cdot (x^{2/5})$<br>\n",
        "- $f(x)=1 \\cdot x^0 ve g(x)=x^{2/5}$ için,\n",
        "- $y=f(x) \\cdot g(x)$ olur<br>\n",
        " ve $y'=f'(x) \\cdot g(x) + f(x) \\cdot g'(x)$ olur.\n",
        "- $y'=0 \\cdot x^{2/5} + 1 \\cdot (2/5) \\cdot x^{-3/5}$\n",
        "- - -\n",
        " **ör.4**<br> $f(x)=(8x^3)^2$ ise ${d \\over dx}f(x)=?$<br><br>\n",
        " **çözüm**<br> $g(x)=8x^3$ olsun;<br>\n",
        " $f(x)=g(x) \\cdot g(x)$<br>ve $f'(x)=g'(x) \\cdot g(x) + g(x) \\cdot g'(x)= 2[g'(x) \\cdot g(x)]$ olur.\n",
        " - $f'(x)=2[(3 \\cdot 8 \\cdot x^2)(8x^3)]=384x^5$\n",
        "- - -\n",
        "- ***Bölümün Türevi***<br>\n",
        "$f(x)={g(x) \\over h(x)}$ olsun;<br>\n",
        "$f'(x)={g'(x) \\cdot h(x) - g(x) \\cdot h'(x) \\over (h(x))^2}$ olur.\n",
        "- - -\n",
        " **ör.5**<br> $y={1 \\over x}$ ise ${dy \\over dx}=?$<br><br>\n",
        " **çözüm**<br>\n",
        " - $f(x)=1x^0$ ve $g(x)=1x^1$ olsun;<br>\n",
        " öyleyse\n",
        " - $y=f(x)/g(x)$<br>\n",
        " ve $y'={{f'(x)g(x)-f(x)g'(x)}\\over{(g(x))^2}}$ olur.\n",
        "\n",
        " $y'=(0x - 1 \\cdot 1)/x^2=-1/x^2$\n",
        "- - -\n",
        " **ör.6**<br> $f(x)={x^2+1 \\over x-3}$ ise ${dy \\over dx}=?$<br><br>\n",
        " **çözüm**<br>\n",
        " $f'(x)=[2x(x-3)-(x^2+1) \\cdot 1)]/(x-3)^2$<br>\n",
        " $\\ \\ \\ \\ \\ \\ \\ \\ \\ =(2x^2-6x-x^2-1)/(x^2-6x+9)$<br>\n",
        " $\\ \\ \\ \\ \\ \\ \\ \\ \\ =(x^2-6x-1)/(x^2-6x+9)$\n",
        "- - -\n",
        "- ***Bileşke Fonksiyonların Türevi:***<br>\n",
        " ***Zincir Kuralı***<br>\n",
        "$f(g(x))$ için ${d \\over dx}f(g(x))={d \\over d g(x)}f(g(x)) \\cdot {d \\over dx}g(x)$ olur.<br><br>\n",
        "- - -\n",
        " **ör.7**<br> $f(x)=(x^2+7)^3$ ise ${d \\over dx}f(x)=?$<br><br>\n",
        " **çözüm**<br>\n",
        " - $g(x)=x^2+7$ olsun\n",
        " - öyleyse $f(x)$, $f(g(x))=(g(x))^3$ biçiminde yeniden yazılabilir.<br>\n",
        " ${d \\over dx}f(g(x))=[{d \\over d g(x)}f(g(x))] \\cdot [{d \\over dx}g(x)]$<br>\n",
        " $\\ \\ \\ \\ \\ \\ \\ \\ \\ \\ \\ \\ \\ \\ \\ \\ \\ =[(3)(x^2+7)^2] \\cdot [(2)x+0]$<br>\n",
        " $\\ \\ \\ \\ \\ \\ \\ \\ \\ \\ \\ \\ \\ \\ \\ \\ \\ =(6x)(x^2+7)^2$<br>\n",
        " $\\ \\ \\ \\ \\ \\ \\ \\ \\ \\ \\ \\ \\ \\ \\ \\ \\ =6x^5+84x^3+294x$<br>\n",
        "- - -\n",
        " - ***Kapalı Türev:***<br>\n",
        "\n"
      ],
      "metadata": {
        "id": "WDXqs-XpDm8e"
      }
    },
    {
      "cell_type": "code",
      "source": [
        "#@title \n",
        "import matplotlib.pyplot as plt\n",
        "\n",
        "plt.rcParams['font.size'] = 8\n",
        "plt.rcParams[\"font.family\"] = \"Times New Roman\"\n",
        "plt.rcParams['figure.figsize'] = [6,3.375]\n",
        "plt.rcParams['figure.dpi'] = 200\n",
        "plt.rcParams[\"axes.spines.right\"] = False\n",
        "plt.rcParams[\"axes.spines.top\"] = False\n",
        "plt.rcParams[\"axes.spines.left\"] = False\n",
        "plt.rcParams[\"axes.spines.bottom\"] = False\n",
        "\n",
        "import numpy as np \n",
        "#  Grafiği çizdiriyoruz\n",
        "r = 5\n",
        " \n",
        "x = r * np.cos( np.linspace( 0, 2*np.pi, 1000 ) )\n",
        "y = r * np.sin( np.linspace( 0, 2*np.pi, 1000 ) )\n",
        " \n",
        "figure, axes = plt.subplots( 1 )\n",
        " \n",
        "axes.plot( x, y, c='r' )\n",
        "axes.set_aspect( 1 )\n",
        " \n",
        "plt.title('$f(x)$\\'in Grafiği')\n",
        "plt.legend(['$x^2+y^2=25$'])\n",
        "plt.tight_layout()\n",
        "\n",
        "plt.xlim((-6,8))\n",
        "plt.xticks((-5,0,5))\n",
        "plt.ylim((-6,6))\n",
        "plt.yticks((-5,0,5))\n",
        "\n",
        "plt.axvline(x=0, color='k',alpha=.5)\n",
        "plt.axhline(y=0, color='k',alpha=.5)\n",
        "\n",
        "plt.show()\n",
        "\n"
      ],
      "metadata": {
        "colab": {
          "base_uri": "https://localhost:8080/",
          "height": 684
        },
        "cellView": "form",
        "id": "GmAU48_4xRhe",
        "outputId": "6005f124-0176-4234-9015-df3ea8497ab7"
      },
      "execution_count": 27,
      "outputs": [
        {
          "output_type": "display_data",
          "data": {
            "text/plain": [
              "<Figure size 1200x675 with 1 Axes>"
            ],
            "image/png": "[encoded data removed]"
          },
          "metadata": {
            "needs_background": "light"
          }
        }
      ]
    },
    {
      "cell_type": "markdown",
      "source": [
        " **ör.8**<br>\n",
        " $(x-0)^2+(y-0)^2=(5)^2$ için ${dy \\over dx}$'i bulunuz.<br><br>\n",
        "\n",
        " **Çözüm**<br>\n",
        " Bazı çok değişkenli matematiksel eşitliklerde, değişkenlerden birini argüman diğerini ise argüman alınan değişken cinsinden kısmi türevi aranan bir fonksiyon yakıştırması yapılabilir<br>Bu halde denklemin her iki tarafında da her terimin türevini hesaplayarak ve aranan türev ifadesi yalnız bırakılarak hesaplama yapılabilir. Bu yönteme ***kapalı türev*** denilir.<br><br>\n",
        "${d \\over dx}\\Big((x-0)^2\\Big)+{d \\over dx}\\Big((y-0)^2\\Big)={d \\over dx}\\Big((5)^2\\Big)$<br>\n",
        "$⇒2x+[2y \\cdot {d \\over dx}(y)] = 0$<br>\n",
        "$⇒{d \\over dx}(y) = -2x / 2y = -{x \\over y}$<br>\n",
        "- - -\n",
        " **ör.9**<br>\n",
        " $25 \\cdot K^{3 \\over 5} \\cdot L^{2 \\over 5} = 5400$ için ${dK \\over dL}$'ibulunuz.<br><br>\n",
        "\n",
        " **Çözüm**<br>\n",
        "${d \\over dL}\\Big(25K^.6L^.4\\Big)={d \\over dL}(5400)$<br>\n",
        "$25\\Big( {d \\over dL}(K^.6)L^.4 + K^.6{d \\over dL}(L^.4)\\Big) = 0 $<br>\n",
        "$25({dK \\over dL}0.6K^{-.4}L^.4+K^.6 0.4L^{-.6})=0$<br>\n",
        "${dK \\over dL}=-{K^.6 0.4L^{-.6} \\over 0.6K^{-.4}L^.4}$<br>\n",
        "${dK \\over dL}=-{0.4 \\over 0.6}K^{.6- (-.4)}L^{-.6 -(.4)}$<br>\n",
        "${dK \\over dL}=-{2K \\over 3L}$<br>\n",
        "- - -\n",
        "**NOT:** Buradan itibaren ($↓$) sunulanlar sınavda da soru metni içerisinde size hatırlatılacaktır.<br><br>\n",
        " - ***Bazı Fonksiyonların Türevi:***\n",
        "  - ${d \\over dx}\\Big( f(x) \\cdot g(x) \\Big) = f'(x)g(x)+f(x)g'(x)$\n",
        "  - ${d \\over dx}\\Big({f(x) \\over g(x)} \\Big) = {f'(x)g(x)-f(x)g'(x) \\over (g(x))^2}$\n",
        "  - ${d \\over dx}\\Big(f(g(x))\\Big) = {d \\over dg(x)}\\Big( f(g(x)) \\Big) \\cdot {d \\over dx}\\Big( g(x) \\Big)$\n",
        "  - ***Trigonometrik Fonksiyonlar:***\n",
        "    - $f(x)=sin(x) ⇒ f'(x)=cos(x)$\n",
        "    - $f(x)=cos(x) ⇒ f'(x)=-sin(x)$\n",
        "  - ***Üstel Fonksiyonlar:***\n",
        "    - $f(x)=c^{x} ⇒ f'(x)=c^{x} \\cdot ln(a)$\n",
        "    - $f(x)=e^{x} ⇒ f'(x)=e^{x}$\n",
        "    - [Euler sayısı(e) nedir?](https://youtu.be/m2MIpDrF7Es)\n",
        "    - *Küçük hatırlatmalar:*<br>\n",
        "      - $a^{-b}={1 \\over a^b}$<br>\n",
        "      - $a^{b \\over c}=\\sqrt[c]{a^b}$<br>\n",
        "      - $(a^b)^c=a^{bc}$<br>\n",
        "      - $a^{b+c}=a^b \\cdot a^c$<br>\n",
        "  - ***Logaritmik Fonksiyonlar:***\n",
        "    - $f(x)=\\log_{b}{x} ⇒ f'(x)=(x \\cdot ln(b))^{-1}={1 \\over x \\cdot ln(b)}$\n",
        "    - $f(x)=\\ln{x} ⇒ f'(x)=(x)^{-1} = {1 \\over x}$\n",
        "    - *Küçük hatırlatmalar:*<br>\n",
        "      - $b^c=x ⇒ log_b(x)=c$<br>\n",
        "      - $log_b(x^{c})=c \\cdot log_b(x)$<br>\n",
        "      - $log_b(cx)=log_b(c)+log_b(x)$<br>\n",
        "      - $log_b(c/x)=log_b(c)-log_b(x)$<br>\n",
        "      - $b \\in \\mathbb{R}_{++}-\\lbrace 1 \\rbrace$\n",
        "      - logaritmik fonksiyonlar 0'da süreksizdir.\n",
        "- - -"
      ],
      "metadata": {
        "id": "1sjnH40F1Vew"
      }
    },
    {
      "cell_type": "code",
      "source": [],
      "metadata": {
        "id": "kWkaOnB199FJ"
      },
      "execution_count": null,
      "outputs": []
    }
  ]
}